{
 "cells": [
  {
   "cell_type": "code",
   "execution_count": 1,
   "metadata": {},
   "outputs": [],
   "source": [
    "from pyspark.sql import SparkSession, SQLContext\n",
    "from pyspark import SparkContext\n",
    "from pyspark.sql.functions import *\n",
    "from pyspark.sql.types import DateType"
   ]
  },
  {
   "cell_type": "code",
   "execution_count": 2,
   "metadata": {},
   "outputs": [],
   "source": [
    "sc = SparkContext(appName=\"PythonStreamingQueueStream\")    "
   ]
  },
  {
   "cell_type": "code",
   "execution_count": 3,
   "metadata": {},
   "outputs": [],
   "source": [
    "sqlContext = SQLContext(sc)"
   ]
  },
  {
   "cell_type": "code",
   "execution_count": 4,
   "metadata": {},
   "outputs": [
    {
     "name": "stdout",
     "output_type": "stream",
     "text": [
      "+-----------+----------+---------+--------+------------+---------+-------+------+--------------+----------+-------------+\n",
      "|EMPLOYEE_ID|FIRST_NAME|LAST_NAME|   EMAIL|PHONE_NUMBER|HIRE_DATE| JOB_ID|SALARY|COMMISSION_PCT|MANAGER_ID|DEPARTMENT_ID|\n",
      "+-----------+----------+---------+--------+------------+---------+-------+------+--------------+----------+-------------+\n",
      "|        100|    Steven|     King|   SKING|515.123.4567| 17-06-03|AD_PRES| 24000|          null|      null|           90|\n",
      "|        101|     Neena|  Kochhar|NKOCHHAR|515.123.4568| 21-09-05|  AD_VP| 17000|          null|       100|           90|\n",
      "|        102|       Lex|  De Haan| LDEHAAN|515.123.4569| 13-01-01|  AD_VP| 17000|          null|       100|           90|\n",
      "|        103| Alexander|   Hunold| AHUNOLD|590.423.4567| 03-01-06|IT_PROG|  9000|          null|       102|           60|\n",
      "|        104|     Bruce|    Ernst|  BERNST|590.423.4568| 21-05-07|IT_PROG|  6000|          null|       103|           60|\n",
      "+-----------+----------+---------+--------+------------+---------+-------+------+--------------+----------+-------------+\n",
      "only showing top 5 rows\n",
      "\n"
     ]
    }
   ],
   "source": [
    "df = sqlContext.read.format('com.databricks.spark.csv').options(header='true').load('Employees.csv')\n",
    "df.show(5)"
   ]
  },
  {
   "cell_type": "code",
   "execution_count": 5,
   "metadata": {},
   "outputs": [
    {
     "name": "stdout",
     "output_type": "stream",
     "text": [
      "root\n",
      " |-- EMPLOYEE_ID: string (nullable = true)\n",
      " |-- FIRST_NAME: string (nullable = true)\n",
      " |-- LAST_NAME: string (nullable = true)\n",
      " |-- EMAIL: string (nullable = true)\n",
      " |-- PHONE_NUMBER: string (nullable = true)\n",
      " |-- HIRE_DATE: string (nullable = true)\n",
      " |-- JOB_ID: string (nullable = true)\n",
      " |-- SALARY: string (nullable = true)\n",
      " |-- COMMISSION_PCT: string (nullable = true)\n",
      " |-- MANAGER_ID: string (nullable = true)\n",
      " |-- DEPARTMENT_ID: string (nullable = true)\n",
      "\n"
     ]
    }
   ],
   "source": [
    "df.printSchema()"
   ]
  },
  {
   "cell_type": "markdown",
   "metadata": {},
   "source": [
    "df.select(to_date(df.HIRE_DATE).alias('HIRE_DATE')).show(5)"
   ]
  },
  {
   "cell_type": "code",
   "execution_count": 6,
   "metadata": {},
   "outputs": [],
   "source": [
    " df1 = df.select('HIRE_DATE', from_unixtime(unix_timestamp('HIRE_DATE', 'dd-MM-yy')).alias('date'))"
   ]
  },
  {
   "cell_type": "code",
   "execution_count": null,
   "metadata": {},
   "outputs": [],
   "source": [
    "def dateTranform(dataframe, col):\n",
    "    data = dataframe.select(str(col), from)"
   ]
  },
  {
   "cell_type": "code",
   "execution_count": 9,
   "metadata": {},
   "outputs": [],
   "source": [
    "df2 = df"
   ]
  },
  {
   "cell_type": "code",
   "execution_count": 10,
   "metadata": {},
   "outputs": [
    {
     "name": "stdout",
     "output_type": "stream",
     "text": [
      "+-----------+-----------+----------+--------+------------+---------+----------+------+--------------+----------+-------------+\n",
      "|EMPLOYEE_ID| FIRST_NAME| LAST_NAME|   EMAIL|PHONE_NUMBER|HIRE_DATE|    JOB_ID|SALARY|COMMISSION_PCT|MANAGER_ID|DEPARTMENT_ID|\n",
      "+-----------+-----------+----------+--------+------------+---------+----------+------+--------------+----------+-------------+\n",
      "|        100|     Steven|      King|   SKING|515.123.4567| 17-06-03|   AD_PRES| 24000|          null|      null|           90|\n",
      "|        101|      Neena|   Kochhar|NKOCHHAR|515.123.4568| 21-09-05|     AD_VP| 17000|          null|       100|           90|\n",
      "|        102|        Lex|   De Haan| LDEHAAN|515.123.4569| 13-01-01|     AD_VP| 17000|          null|       100|           90|\n",
      "|        103|  Alexander|    Hunold| AHUNOLD|590.423.4567| 03-01-06|   IT_PROG|  9000|          null|       102|           60|\n",
      "|        104|      Bruce|     Ernst|  BERNST|590.423.4568| 21-05-07|   IT_PROG|  6000|          null|       103|           60|\n",
      "|        105|      David|    Austin| DAUSTIN|590.423.4569| 25-06-05|   IT_PROG|  4800|          null|       103|           60|\n",
      "|        106|      Valli| Pataballa|VPATABAL|590.423.4560| 05-02-06|   IT_PROG|  4800|          null|       103|           60|\n",
      "|        107|      Diana|   Lorentz|DLORENTZ|590.423.5567| 07-02-07|   IT_PROG|  4200|          null|       103|           60|\n",
      "|        108|      Nancy| Greenberg|NGREENBE|515.124.4569| 17-08-02|    FI_MGR| 12008|          null|       101|          100|\n",
      "|        109|     Daniel|    Faviet| DFAVIET|515.124.4169| 16-08-02|FI_ACCOUNT|  9000|          null|       108|          100|\n",
      "|        110|       John|      Chen|   JCHEN|515.124.4269| 28-09-05|FI_ACCOUNT|  8200|          null|       108|          100|\n",
      "|        111|     Ismael|   Sciarra|ISCIARRA|515.124.4369| 30-09-05|FI_ACCOUNT|  7700|          null|       108|          100|\n",
      "|        112|Jose Manuel|     Urman| JMURMAN|515.124.4469| 07-03-06|FI_ACCOUNT|  7800|          null|       108|          100|\n",
      "|        113|       Luis|      Popp|   LPOPP|515.124.4567| 07-12-07|FI_ACCOUNT|  6900|          null|       108|          100|\n",
      "|        114|        Den|  Raphaely|DRAPHEAL|515.127.4561| 07-12-02|    PU_MAN| 11000|          null|       100|           30|\n",
      "|        115|  Alexander|      Khoo|   AKHOO|515.127.4562| 18-05-03|  PU_CLERK|  3100|          null|       114|           30|\n",
      "|        116|     Shelli|     Baida|  SBAIDA|515.127.4563| 24-12-05|  PU_CLERK|  2900|          null|       114|           30|\n",
      "|        117|      Sigal|    Tobias| STOBIAS|515.127.4564| 24-07-05|  PU_CLERK|  2800|          null|       114|           30|\n",
      "|        118|        Guy|    Himuro| GHIMURO|515.127.4565| 15-11-06|  PU_CLERK|  2600|          null|       114|           30|\n",
      "|        119|      Karen|Colmenares|KCOLMENA|515.127.4566| 10-08-07|  PU_CLERK|  2500|          null|       114|           30|\n",
      "+-----------+-----------+----------+--------+------------+---------+----------+------+--------------+----------+-------------+\n",
      "only showing top 20 rows\n",
      "\n"
     ]
    }
   ],
   "source": [
    "df2.show(5)"
   ]
  },
  {
   "cell_type": "code",
   "execution_count": null,
   "metadata": {},
   "outputs": [],
   "source": [
    "df['HIRE_DATE'] = df1[date]"
   ]
  },
  {
   "cell_type": "code",
   "execution_count": null,
   "metadata": {},
   "outputs": [],
   "source": [
    "type(df)"
   ]
  },
  {
   "cell_type": "code",
   "execution_count": null,
   "metadata": {},
   "outputs": [],
   "source": [
    "df['HIRE_DATE'] = df1['date']"
   ]
  },
  {
   "cell_type": "code",
   "execution_count": null,
   "metadata": {},
   "outputs": [],
   "source": [
    "df.withColumn(\"HIRE_DATE\",df['HIRE_DATE'].cast(DateType())).show(5)"
   ]
  },
  {
   "cell_type": "code",
   "execution_count": null,
   "metadata": {},
   "outputs": [],
   "source": [
    "df.show(5)"
   ]
  },
  {
   "cell_type": "code",
   "execution_count": null,
   "metadata": {},
   "outputs": [],
   "source": []
  }
 ],
 "metadata": {
  "kernelspec": {
   "display_name": "Python 3",
   "language": "python",
   "name": "python3"
  },
  "language_info": {
   "codemirror_mode": {
    "name": "ipython",
    "version": 3
   },
   "file_extension": ".py",
   "mimetype": "text/x-python",
   "name": "python",
   "nbconvert_exporter": "python",
   "pygments_lexer": "ipython3",
   "version": "3.7.7"
  }
 },
 "nbformat": 4,
 "nbformat_minor": 4
}
