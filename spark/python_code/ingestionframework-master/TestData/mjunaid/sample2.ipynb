{
 "cells": [
  {
   "cell_type": "code",
   "execution_count": 1,
   "metadata": {},
   "outputs": [],
   "source": [
    "from pyspark.sql.functions import explode, col\n",
    "from pyspark.sql import SparkSession"
   ]
  },
  {
   "cell_type": "code",
   "execution_count": 2,
   "metadata": {},
   "outputs": [],
   "source": [
    "spark = SparkSession.builder.appName(\"test\").getOrCreate()"
   ]
  },
  {
   "cell_type": "code",
   "execution_count": 3,
   "metadata": {},
   "outputs": [],
   "source": [
    "df = spark.read.option(\"multiline\", \"true\").json(\"carBill.json\")"
   ]
  },
  {
   "cell_type": "code",
   "execution_count": 4,
   "metadata": {},
   "outputs": [],
   "source": [
    "# Explode all persons into different rows\n",
    "persons = df.select(explode(\"persons\").alias(\"persons\"))"
   ]
  },
  {
   "cell_type": "code",
   "execution_count": 5,
   "metadata": {},
   "outputs": [],
   "source": [
    "# Explode all car brands into different rows\n",
    "persons_cars = persons.select(\n",
    "   col(\"persons.name\").alias(\"persons_name\")\n",
    " , col(\"persons.age\").alias(\"persons_age\")\n",
    " , explode(\"persons.cars\").alias(\"persons_cars_brands\")\n",
    " , col(\"persons_cars_brands.name\").alias(\"persons_cars_brand\")\n",
    ")"
   ]
  },
  {
   "cell_type": "code",
   "execution_count": 6,
   "metadata": {},
   "outputs": [],
   "source": [
    "# Explode all car models into different rows\n",
    "persons_cars_models = persons_cars.select(\n",
    "   col(\"persons_name\")\n",
    " , col(\"persons_age\")\n",
    " , col(\"persons_cars_brand\")\n",
    " , explode(\"persons_cars_brands.models\").alias(\"persons_cars_model\")\n",
    ")"
   ]
  },
  {
   "cell_type": "code",
   "execution_count": 7,
   "metadata": {},
   "outputs": [
    {
     "data": {
      "text/plain": [
       "DataFrame[persons_name: string, persons_age: bigint, persons_cars_brand: string, persons_cars_model: string]"
      ]
     },
     "metadata": {},
     "output_type": "display_data"
    }
   ],
   "source": [
    "display(persons_cars_models)"
   ]
  },
  {
   "cell_type": "code",
   "execution_count": 8,
   "metadata": {},
   "outputs": [
    {
     "name": "stdout",
     "output_type": "stream",
     "text": [
      "+------------+-----------+------------------+------------------+\n",
      "|persons_name|persons_age|persons_cars_brand|persons_cars_model|\n",
      "+------------+-----------+------------------+------------------+\n",
      "|        John|         30|              Ford|            Fiesta|\n",
      "|        John|         30|              Ford|             Focus|\n",
      "|        John|         30|              Ford|           Mustang|\n",
      "|        John|         30|               BMW|               320|\n",
      "|        John|         30|               BMW|                X3|\n",
      "|        John|         30|               BMW|                X5|\n",
      "|       Peter|         46|           Huyndai|               i10|\n",
      "|       Peter|         46|           Huyndai|               i30|\n",
      "|       Peter|         46|          Mercedes|              E320|\n",
      "|       Peter|         46|          Mercedes|           E63 AMG|\n",
      "+------------+-----------+------------------+------------------+\n",
      "\n"
     ]
    }
   ],
   "source": [
    "persons_cars_models.show()"
   ]
  },
  {
   "cell_type": "code",
   "execution_count": null,
   "metadata": {},
   "outputs": [],
   "source": []
  }
 ],
 "metadata": {
  "kernelspec": {
   "display_name": "Python 3",
   "language": "python",
   "name": "python3"
  },
  "language_info": {
   "codemirror_mode": {
    "name": "ipython",
    "version": 3
   },
   "file_extension": ".py",
   "mimetype": "text/x-python",
   "name": "python",
   "nbconvert_exporter": "python",
   "pygments_lexer": "ipython3",
   "version": "3.7.7"
  }
 },
 "nbformat": 4,
 "nbformat_minor": 4
}
