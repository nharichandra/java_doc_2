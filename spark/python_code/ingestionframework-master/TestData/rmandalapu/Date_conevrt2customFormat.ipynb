{
 "cells": [
  {
   "cell_type": "code",
   "execution_count": null,
   "metadata": {},
   "outputs": [],
   "source": [
    "from pyspark.sql import SparkSession, SQLContext\n",
    "from pyspark import SparkContext\n",
    "from pyspark.sql.functions import *\n",
    "from pyspark.sql.types import DateType"
   ]
  },
  {
   "cell_type": "code",
   "execution_count": null,
   "metadata": {},
   "outputs": [],
   "source": [
    "sc = SparkContext(appName=\"dataTransfrom\")"
   ]
  },
  {
   "cell_type": "code",
   "execution_count": null,
   "metadata": {},
   "outputs": [],
   "source": [
    "sqlContext = SQLContext(sc)"
   ]
  },
  {
   "cell_type": "code",
   "execution_count": null,
   "metadata": {},
   "outputs": [],
   "source": [
    "df = sqlContext.read.format('com.databricks.spark.csv').options(header='true').load('D:/Nisum/Employees.csv')"
   ]
  },
  {
   "cell_type": "code",
   "execution_count": null,
   "metadata": {},
   "outputs": [],
   "source": [
    "\"\"\"\n",
    "Col--> date filed from dataframe\n",
    "curr_date_format--> format of the existing date_filed which is coming from dataframe\n",
    "req_date_format--> format of date to change('MMyyyy','yyyy',ddMMyyyy,yyyyMMdd,MM/dd/yyyy..etc)\n",
    "\"\"\"\n",
    "\n",
    "def dateCustomFormat(dataFrame, col, curr_date_format, req_date_format):\n",
    "    data = dataFrame.withColumn(col,from_unixtime(unix_timestamp(dataFrame[col], curr_date_format),req_date_format).alias(col))\n",
    "    return data"
   ]
  },
  {
   "cell_type": "code",
   "execution_count": null,
   "metadata": {},
   "outputs": [],
   "source": [
    "df1 = dateCustomFormat(df,\"HIRE_DATE\",\"dd-MM-yy\",\"yyyyMM\")\n",
    "df1.show(5)"
   ]
  },
  {
   "cell_type": "code",
   "execution_count": null,
   "metadata": {},
   "outputs": [],
   "source": [
    "#Alternative\n",
    "\n",
    "def dateCustomFormat1(dataFrame, col, curr_date_format, req_date_format):\n",
    "    data = dataFrame.withColumn(col,date_format(unix_timestamp(dataFrame[col], curr_date_format).cast(\"timestamp\"),req_date_format).alias(col))\n",
    "    return data"
   ]
  },
  {
   "cell_type": "code",
   "execution_count": null,
   "metadata": {},
   "outputs": [],
   "source": [
    "df2 = dateCustomFormat1(df,\"HIRE_DATE\",\"dd-MM-yy\",\"yyyyMM\")\n",
    "df2.show(5)"
   ]
  },
  {
   "cell_type": "code",
   "execution_count": null,
   "metadata": {},
   "outputs": [],
   "source": []
  }
 ],
 "metadata": {
  "kernelspec": {
   "display_name": "Python 3",
   "language": "python",
   "name": "python3"
  },
  "language_info": {
   "codemirror_mode": {
    "name": "ipython",
    "version": 3
   },
   "file_extension": ".py",
   "mimetype": "text/x-python",
   "name": "python",
   "nbconvert_exporter": "python",
   "pygments_lexer": "ipython3",
   "version": "3.7.6"
  }
 },
 "nbformat": 4,
 "nbformat_minor": 4
}
