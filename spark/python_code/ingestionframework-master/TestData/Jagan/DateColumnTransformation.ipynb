{
 "cells": [
  {
   "cell_type": "code",
   "execution_count": 3,
   "metadata": {},
   "outputs": [],
   "source": [
    "from pyspark.sql import SparkSession, SQLContext\n",
    "from pyspark import SparkContext\n",
    "from pyspark.sql.functions import *\n",
    "from pyspark.sql.functions import udf\n",
    "from pyspark.sql.types import *\n",
    "from datetime import datetime\n",
    "from pyspark.sql import functions as F"
   ]
  },
  {
   "cell_type": "code",
   "execution_count": 2,
   "metadata": {},
   "outputs": [],
   "source": [
    "from pyspark.sql import SparkSession\n",
    "spark = SparkSession.builder \\\n",
    "    .master(\"local\") \\\n",
    "    .appName(\"jdbc data sources\") \\\n",
    "    .getOrCreate()"
   ]
  },
  {
   "cell_type": "markdown",
   "metadata": {},
   "source": [
    "**Provide Current Date Format and required Data Format**"
   ]
  },
  {
   "cell_type": "code",
   "execution_count": 5,
   "metadata": {},
   "outputs": [
    {
     "name": "stdout",
     "output_type": "stream",
     "text": [
      "root\n",
      " |-- a: string (nullable = true)\n",
      " |-- b: string (nullable = true)\n",
      " |-- c: string (nullable = true)\n",
      "\n",
      "+----------+--------+----------------+\n",
      "|         a|       b|               c|\n",
      "+----------+--------+----------------+\n",
      "|2018-12-22|04-12-00|2019 July 24 Wed|\n",
      "+----------+--------+----------------+\n",
      "\n",
      "+----------+--------+---+\n",
      "|         a|       b|  c|\n",
      "+----------+--------+---+\n",
      "|2018-12-22|04-12-00| 24|\n",
      "+----------+--------+---+\n",
      "\n",
      "root\n",
      " |-- a: string (nullable = true)\n",
      " |-- b: string (nullable = true)\n",
      " |-- c: string (nullable = true)\n",
      "\n",
      "+----------+----------+\n",
      "|         a|dayofmonth|\n",
      "+----------+----------+\n",
      "|2019-07-24|        24|\n",
      "+----------+----------+\n",
      "\n",
      "root\n",
      " |-- a: date (nullable = true)\n",
      " |-- dayofmonth: integer (nullable = true)\n",
      "\n",
      "+----------+--------+----------------+----------+----+\n",
      "|         a|       b|               c|dayofmonth|year|\n",
      "+----------+--------+----------------+----------+----+\n",
      "|2018-12-22|04-12-00|2019 July 24 Wed|        22|2018|\n",
      "+----------+--------+----------------+----------+----+\n",
      "\n"
     ]
    }
   ],
   "source": [
    "\n",
    "ef = spark.createDataFrame([('2018-12-22','04-12-00','2019 July 24 Wed')], ['a','b','c'])\n",
    "ef.printSchema()\n",
    "\n",
    "\n",
    "curr_fmt='yyy-MM-dd'\n",
    "req_fmt = \"yyyyMM\"\n",
    "ef1 = ef.withColumn('a',date_format(to_date('a', curr_fmt),req_fmt))\n",
    "\n",
    "curr_fmt='dd-MM-yy'\n",
    "req_fmt = \"yyyy\"\n",
    "ef1 = ef.withColumn('b',date_format(to_date('b', curr_fmt),req_fmt))\n",
    "\n",
    "curr_fmt='yyyy MMMM dd E'\n",
    "req_fmt = \"dd\"\n",
    "ef1 = ef.withColumn('c',date_format(to_date('c', curr_fmt),req_fmt))\n",
    "\n",
    "\n",
    "ef.show()\n",
    "ef1.show()\n",
    "ef1.printSchema()\n"
   ]
  },
  {
   "cell_type": "markdown",
   "metadata": {},
   "source": [
    "# Format data using spark sql funcation."
   ]
  },
  {
   "cell_type": "code",
   "execution_count": null,
   "metadata": {},
   "outputs": [],
   "source": [
    "\n",
    "\n",
    "ef1 = spark.createDataFrame([('2019 July 24 Wed',)], ['a']) #yyyy MMMM dd E\n",
    "curr_fmt='yyyy MMMM dd E'\n",
    "#ef3 = ef.withColumn('a', F.col('a').cast(DateType()))\n",
    "ef3 = ef1.withColumn('a',to_date('a', curr_fmt)).withColumn(\"dayofmonth\", F.dayofmonth(F.col('a'))) #.show()\n",
    "ef3.show()\n",
    "ef3.printSchema()\n",
    "\n",
    "ef4 = ef.withColumn(\"dayofmonth\", F.dayofmonth(F.col('a'))).withColumn(\"year\", F.year(F.col('a')))\n",
    "ef4.show()"
   ]
  }
 ],
 "metadata": {
  "kernelspec": {
   "display_name": "Python 3",
   "language": "python",
   "name": "python3"
  },
  "language_info": {
   "codemirror_mode": {
    "name": "ipython",
    "version": 3
   },
   "file_extension": ".py",
   "mimetype": "text/x-python",
   "name": "python",
   "nbconvert_exporter": "python",
   "pygments_lexer": "ipython3",
   "version": "3.7.6"
  }
 },
 "nbformat": 4,
 "nbformat_minor": 4
}
